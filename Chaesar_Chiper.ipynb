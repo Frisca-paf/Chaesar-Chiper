{
  "nbformat": 4,
  "nbformat_minor": 0,
  "metadata": {
    "colab": {
      "provenance": [],
      "authorship_tag": "ABX9TyOKmxA8pEFhh7VODf5QZw1B"
    },
    "kernelspec": {
      "name": "python3",
      "display_name": "Python 3"
    },
    "language_info": {
      "name": "python"
    }
  },
  "cells": [
    {
      "cell_type": "markdown",
      "source": [
        "# Chaesar Chiper"
      ],
      "metadata": {
        "id": "y5FGUM5oYUkq"
      }
    },
    {
      "cell_type": "markdown",
      "source": [
        "Function"
      ],
      "metadata": {
        "id": "838vs9spYXws"
      }
    },
    {
      "cell_type": "code",
      "execution_count": null,
      "metadata": {
        "id": "-_vwU8l5YBI5"
      },
      "outputs": [],
      "source": [
        "import string\n",
        "\n",
        "def logo() :\n",
        "  logo = \"\"\"           \n",
        " ,adPPYba, ,adPPYYba,  ,adPPYba, ,adPPYba, ,adPPYYba, 8b,dPPYba,  \n",
        "a8\"     \"\" \"\"     `Y8 a8P_____88 I8[    \"\" \"\"     `Y8 88P'   \"Y8  \n",
        "8b         ,adPPPPP88 8PP\"\"\"\"\"\"\"  `\"Y8ba,  ,adPPPPP88 88          \n",
        "\"8a,   ,aa 88,    ,88 \"8b,   ,aa aa    ]8I 88,    ,88 88          \n",
        " `\"Ybbd8\"' `\"8bbdP\"Y8  `\"Ybbd8\"' `\"YbbdP\"' `\"8bbdP\"Y8 88   \n",
        "            88             88                                 \n",
        "           \"\"             88                                 \n",
        "                          88                                 \n",
        " ,adPPYba, 88 8b,dPPYba,  88,dPPYba,   ,adPPYba, 8b,dPPYba,  \n",
        "a8\"     \"\" 88 88P'    \"8a 88P'    \"8a a8P_____88 88P'   \"Y8  \n",
        "8b         88 88       d8 88       88 8PP\"\"\"\"\"\"\" 88          \n",
        "\"8a,   ,aa 88 88b,   ,a8\" 88       88 \"8b,   ,aa 88          \n",
        " `\"Ybbd8\"' 88 88`YbbdP\"'  88       88  `\"Ybbd8\"' 88          \n",
        "              88                                             \n",
        "              88           \n",
        "\"\"\"\n",
        "  print(logo)\n",
        "\n",
        "def encrypt(words, key) :\n",
        "  words = str(words)\n",
        "  temp = \"\"\n",
        "\n",
        "  #ord is to return the unicode oh char, \n",
        "  #modulo 26 because the alphabet is untul 26\n",
        "  #having addtion because in the ascii uppercase and lowercase have different value\n",
        "  for word in words :\n",
        "    if (word.isupper()):\n",
        "      temp += chr((ord(word) + key-65) % 26 + 65)\n",
        "    else :\n",
        "      temp += chr((ord(word) + key-97) % 26 + 97)\n",
        "  return temp\n",
        "\n",
        "def decrypt(words, key) :\n",
        "  words = str(words)\n",
        "  temp = \"\"\n",
        "\n",
        "  #ord is to return the unicode oh char, \n",
        "  #modulo 26 because the alphabet is untul 26\n",
        "  #having addtion because in the ascii uppercase and lowercase have different value\n",
        "  for word in words :\n",
        "    if (word.isupper()):\n",
        "      temp += chr((ord(word) - key-65) % 26 + 65)\n",
        "    else :\n",
        "      temp += chr((ord(word) - key-97) % 26 + 97)\n",
        "  return temp\n"
      ]
    },
    {
      "cell_type": "code",
      "source": [
        "while True :\n",
        "  user_input = str((input(\"Apakah anda ingin menggunakan Chiper Generator? Y or N -> \")).lower())\n",
        "  logo()\n",
        "  if user_input == \"y\" :\n",
        "    print(\"Selamat datang di Chaesar Chiper Generator\")\n",
        "    word = input(\"Silahkan masukkan kata = \")\n",
        "    num = int(input(\"Silahkan masukkan angka kunci = \"))\n",
        "    instruc = str((input(\"Silahkan pilih fitur enkripsi atau dekripsi : \")).lower())\n",
        "    if instruc == \"enkripsi\" :\n",
        "      print(encrypt(word,num))\n",
        "    elif instruc == \"dekripsi\" :\n",
        "      print(decrypt(word,num))\n",
        "    else :\n",
        "      print(\"Your instruction is false!\")\n",
        "\n",
        "  else :\n",
        "    print(\"See you next time!\")\n",
        "    break"
      ],
      "metadata": {
        "colab": {
          "base_uri": "https://localhost:8080/"
        },
        "id": "b8bJzji7vmbV",
        "outputId": "2842f285-ea0e-472f-ee2a-bbd0c00428b1"
      },
      "execution_count": null,
      "outputs": [
        {
          "output_type": "stream",
          "name": "stdout",
          "text": [
            "Apakah anda ingin menggunakan Chiper Generator? Y or N -> y\n",
            "           \n",
            " ,adPPYba, ,adPPYYba,  ,adPPYba, ,adPPYba, ,adPPYYba, 8b,dPPYba,  \n",
            "a8\"     \"\" \"\"     `Y8 a8P_____88 I8[    \"\" \"\"     `Y8 88P'   \"Y8  \n",
            "8b         ,adPPPPP88 8PP\"  `\"Y8ba,  ,adPPPPP88 88          \n",
            "\"8a,   ,aa 88,    ,88 \"8b,   ,aa aa    ]8I 88,    ,88 88          \n",
            " `\"Ybbd8\"' `\"8bbdP\"Y8  `\"Ybbd8\"' `\"YbbdP\"' `\"8bbdP\"Y8 88   \n",
            "            88             88                                 \n",
            "           \"\"             88                                 \n",
            "                          88                                 \n",
            " ,adPPYba, 88 8b,dPPYba,  88,dPPYba,   ,adPPYba, 8b,dPPYba,  \n",
            "a8\"     \"\" 88 88P'    \"8a 88P'    \"8a a8P_____88 88P'   \"Y8  \n",
            "8b         88 88       d8 88       88 8PP\" 88          \n",
            "\"8a,   ,aa 88 88b,   ,a8\" 88       88 \"8b,   ,aa 88          \n",
            " `\"Ybbd8\"' 88 88`YbbdP\"'  88       88  `\"Ybbd8\"' 88          \n",
            "              88                                             \n",
            "              88           \n",
            "\n",
            "Selamat datang di Chaesar Chiper Generator\n",
            "Silahkan masukkan kata = frisca\n",
            "Silahkan masukkan angka kunci = 10\n",
            "Silahkan pilih fitur enkripsi atau dekripsi : dekripsi\n",
            "vhyisq\n",
            "Apakah anda ingin menggunakan Chiper Generator? Y or N -> n\n",
            "           \n",
            " ,adPPYba, ,adPPYYba,  ,adPPYba, ,adPPYba, ,adPPYYba, 8b,dPPYba,  \n",
            "a8\"     \"\" \"\"     `Y8 a8P_____88 I8[    \"\" \"\"     `Y8 88P'   \"Y8  \n",
            "8b         ,adPPPPP88 8PP\"  `\"Y8ba,  ,adPPPPP88 88          \n",
            "\"8a,   ,aa 88,    ,88 \"8b,   ,aa aa    ]8I 88,    ,88 88          \n",
            " `\"Ybbd8\"' `\"8bbdP\"Y8  `\"Ybbd8\"' `\"YbbdP\"' `\"8bbdP\"Y8 88   \n",
            "            88             88                                 \n",
            "           \"\"             88                                 \n",
            "                          88                                 \n",
            " ,adPPYba, 88 8b,dPPYba,  88,dPPYba,   ,adPPYba, 8b,dPPYba,  \n",
            "a8\"     \"\" 88 88P'    \"8a 88P'    \"8a a8P_____88 88P'   \"Y8  \n",
            "8b         88 88       d8 88       88 8PP\" 88          \n",
            "\"8a,   ,aa 88 88b,   ,a8\" 88       88 \"8b,   ,aa 88          \n",
            " `\"Ybbd8\"' 88 88`YbbdP\"'  88       88  `\"Ybbd8\"' 88          \n",
            "              88                                             \n",
            "              88           \n",
            "\n",
            "See you next time!\n"
          ]
        }
      ]
    },
    {
      "cell_type": "code",
      "source": [
        "import string\n",
        "\n",
        "def encrypt(words, key) :\n",
        "  words = str((words).upper())\n",
        "  letter = []\n",
        "  letter_index = []\n",
        "  temp = 0\n",
        "  idx_after_encrypt = []\n",
        "  after_encrypt = []\n",
        "  letter_ascii = string.ascii_uppercase\n",
        "\n",
        "  for word in words :\n",
        "    letter.append(word)\n",
        "\n",
        "  for char in letter :\n",
        "    index = letter_ascii.index(char)\n",
        "    letter_index.append(int(index))\n",
        "\n",
        "  for letin in letter_index : \n",
        "    temp = (letin + key) % 26\n",
        "    idx_after_encrypt.append(temp)\n",
        "\n",
        "  for idx in idx_after_encrypt :\n",
        "    after_encrypt.append(letter_ascii[int(idx)])\n",
        "\n",
        "  for n in after_encrypt :\n",
        "    print(n, end = \"\")\n",
        "\n",
        "encrypt(\"akuu\",5)"
      ],
      "metadata": {
        "colab": {
          "base_uri": "https://localhost:8080/"
        },
        "id": "gbwTEomadyaq",
        "outputId": "b8e6dec7-2f06-4aa2-b7dc-417736d40fa8"
      },
      "execution_count": null,
      "outputs": [
        {
          "output_type": "stream",
          "name": "stdout",
          "text": [
            "FPZZ"
          ]
        }
      ]
    }
  ]
}